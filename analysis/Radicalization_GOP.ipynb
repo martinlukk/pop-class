{
  "nbformat": 4,
  "nbformat_minor": 0,
  "metadata": {
    "colab": {
      "provenance": [],
      "authorship_tag": "ABX9TyPzSfJP0au0ppF9be7CDjXG",
      "include_colab_link": true
    },
    "kernelspec": {
      "name": "python3",
      "display_name": "Python 3"
    },
    "language_info": {
      "name": "python"
    }
  },
  "cells": [
    {
      "cell_type": "markdown",
      "metadata": {
        "id": "view-in-github",
        "colab_type": "text"
      },
      "source": [
        "<a href=\"https://colab.research.google.com/github/sakeefkarim/pop-class/blob/main/analysis/Radicalization_GOP.ipynb\" target=\"_parent\"><img src=\"https://colab.research.google.com/assets/colab-badge.svg\" alt=\"Open In Colab\"/></a>"
      ]
    },
    {
      "cell_type": "markdown",
      "source": [
        "# Mainstreaming of the Far Right in 21st Century Party Politics\n",
        "\n",
        "Sakeef M. Karim and Martin Lukk"
      ],
      "metadata": {
        "id": "s0cN3-R1FgyR"
      }
    },
    {
      "cell_type": "markdown",
      "source": [
        "Loading _essential_ packages and submodules:"
      ],
      "metadata": {
        "id": "KunMnneQFpSD"
      }
    },
    {
      "cell_type": "code",
      "execution_count": 1,
      "metadata": {
        "id": "vhTPbRtSFbVC"
      },
      "outputs": [],
      "source": [
        "# For data manipulation:\n",
        "\n",
        "import pandas as pd\n",
        "\n",
        "import numpy as np\n",
        "\n",
        "# For model training, validation, hyperparameter tuning etc.:\n",
        "\n",
        "from sklearn.model_selection import cross_val_score, RepeatedKFold, StratifiedKFold, KFold, train_test_split, GridSearchCV\n",
        "\n",
        "# Assessment of model performance:\n",
        "\n",
        "from sklearn.metrics import precision_score, recall_score, f1_score, brier_score_loss, RocCurveDisplay\n",
        "\n",
        "# To facilitate interpretation:\n",
        "\n",
        "from sklearn.inspection import PartialDependenceDisplay\n",
        "\n",
        "# Adjusting basic plots:\n",
        "\n",
        "import matplotlib.pyplot as plt\n",
        "\n",
        "import seaborn as sns\n",
        "\n",
        "sns.set(style='darkgrid')"
      ]
    },
    {
      "cell_type": "markdown",
      "source": [
        "Programmatically mounting Drive folder:"
      ],
      "metadata": {
        "id": "NfqOe6mmHIzD"
      }
    },
    {
      "cell_type": "code",
      "source": [
        "# If you want to load/save files via Google Drive:\n",
        "\n",
        "from google.colab import drive\n",
        "drive.mount('/drive')"
      ],
      "metadata": {
        "colab": {
          "base_uri": "https://localhost:8080/"
        },
        "id": "oFPJZq9BHU9r",
        "outputId": "571ef1d9-b742-4faf-acad-540700406eda"
      },
      "execution_count": null,
      "outputs": [
        {
          "output_type": "stream",
          "name": "stdout",
          "text": [
            "Mounted at /drive\n"
          ]
        }
      ]
    },
    {
      "cell_type": "markdown",
      "source": [
        "Introducing submodules for random forest estimation:"
      ],
      "metadata": {
        "id": "Y9iBPgxuKiM9"
      }
    },
    {
      "cell_type": "code",
      "source": [
        "from sklearn.ensemble import RandomForestClassifier\n",
        "\n",
        "from sklearn.calibration import CalibratedClassifierCV\n",
        "\n",
        "from imblearn.ensemble import BalancedRandomForestClassifier\n",
        "\n",
        "from imblearn.over_sampling import SMOTE"
      ],
      "metadata": {
        "id": "D-pHg8R1KtO8"
      },
      "execution_count": 2,
      "outputs": []
    },
    {
      "cell_type": "markdown",
      "source": [
        "Loading the data:"
      ],
      "metadata": {
        "id": "qOUbVJpeK426"
      }
    },
    {
      "cell_type": "code",
      "source": [
        "# Data frame with *only* the latest \"year\" for every party:\n",
        "\n",
        "vparty = pd.read_csv('https://github.com/martinlukk/pop-class/raw/main/data/vparty_latest.csv').dropna()"
      ],
      "metadata": {
        "id": "jJoSW5VXK6ym",
        "colab": {
          "base_uri": "https://localhost:8080/",
          "height": 488
        },
        "outputId": "3e14d571-1d32-46c3-ee7f-7b2552d7acae"
      },
      "execution_count": 4,
      "outputs": [
        {
          "output_type": "execute_result",
          "data": {
            "text/plain": [
              "       country_name  farright  v2paanteli  v2papeople  v2paopresp  v2paplur  \\\n",
              "0           Austria         1       2.638       0.711      -1.810     0.481   \n",
              "1           Austria         1       1.281      -0.357      -1.545     0.407   \n",
              "2           Austria         0       0.291      -2.075       1.879     1.882   \n",
              "3           Austria         0      -1.011      -1.656       0.979     1.842   \n",
              "4           Austria         0      -0.608      -2.067      -0.167     1.846   \n",
              "..              ...       ...         ...         ...         ...       ...   \n",
              "467  United Kingdom         1       1.943       2.882      -1.711     0.762   \n",
              "468  United Kingdom         0       0.459       0.556      -0.318     1.450   \n",
              "469  United Kingdom         0      -0.647      -0.221       0.319     1.387   \n",
              "470  United Kingdom         0      -0.043       1.448      -0.967     1.404   \n",
              "471  United Kingdom         0      -0.567       0.290      -2.147     1.444   \n",
              "\n",
              "     v2paminor  v2paviol  v2paimmig  v2palgbt  v2paculsup  v2parelig  \\\n",
              "0       -0.456     1.671     -4.238    -0.648      -2.882     -0.910   \n",
              "1        0.282     1.722     -1.413     0.091      -0.514      0.879   \n",
              "2        2.494     1.717      1.546     2.606       2.881      1.758   \n",
              "3        0.798     1.661     -1.827     0.936       0.296     -0.065   \n",
              "4        1.703     1.705     -0.216     1.939       1.362      1.782   \n",
              "..         ...       ...        ...       ...         ...        ...   \n",
              "467     -2.172     0.541     -3.602    -0.383      -0.634      0.998   \n",
              "468      1.081     1.749      1.447     1.685      -0.317      1.778   \n",
              "469      1.452     1.720      2.380     3.289       1.500      1.777   \n",
              "470      1.077     1.779      1.104     2.397       0.806      1.751   \n",
              "471     -1.859     1.716     -2.197     0.887      -0.349      0.974   \n",
              "\n",
              "     v2pagender  v2pawomlab  v2pariglef  v2pawelf  v2paclient  \n",
              "0        -0.604      -1.441       1.447    -0.500      -0.717  \n",
              "1        -0.626      -0.353       1.948    -1.842      -1.317  \n",
              "2         2.219       2.677       1.085    -0.569      -1.784  \n",
              "3         1.868      -1.473       0.854    -0.698      -0.717  \n",
              "4         1.496       0.995      -0.182     2.384      -0.978  \n",
              "..          ...         ...         ...       ...         ...  \n",
              "467      -0.778      -1.725       2.539    -1.412      -2.376  \n",
              "468       2.581       1.315      -1.985     1.831      -0.857  \n",
              "469       2.559       2.751      -0.165     0.011      -2.403  \n",
              "470       2.101       2.746      -2.474     1.726      -1.570  \n",
              "471       1.710       0.265       2.026    -1.628      -1.570  \n",
              "\n",
              "[397 rows x 17 columns]"
            ],
            "text/html": [
              "\n",
              "  <div id=\"df-bc2444ef-d684-4c87-843b-80a47694bfae\">\n",
              "    <div class=\"colab-df-container\">\n",
              "      <div>\n",
              "<style scoped>\n",
              "    .dataframe tbody tr th:only-of-type {\n",
              "        vertical-align: middle;\n",
              "    }\n",
              "\n",
              "    .dataframe tbody tr th {\n",
              "        vertical-align: top;\n",
              "    }\n",
              "\n",
              "    .dataframe thead th {\n",
              "        text-align: right;\n",
              "    }\n",
              "</style>\n",
              "<table border=\"1\" class=\"dataframe\">\n",
              "  <thead>\n",
              "    <tr style=\"text-align: right;\">\n",
              "      <th></th>\n",
              "      <th>country_name</th>\n",
              "      <th>farright</th>\n",
              "      <th>v2paanteli</th>\n",
              "      <th>v2papeople</th>\n",
              "      <th>v2paopresp</th>\n",
              "      <th>v2paplur</th>\n",
              "      <th>v2paminor</th>\n",
              "      <th>v2paviol</th>\n",
              "      <th>v2paimmig</th>\n",
              "      <th>v2palgbt</th>\n",
              "      <th>v2paculsup</th>\n",
              "      <th>v2parelig</th>\n",
              "      <th>v2pagender</th>\n",
              "      <th>v2pawomlab</th>\n",
              "      <th>v2pariglef</th>\n",
              "      <th>v2pawelf</th>\n",
              "      <th>v2paclient</th>\n",
              "    </tr>\n",
              "  </thead>\n",
              "  <tbody>\n",
              "    <tr>\n",
              "      <th>0</th>\n",
              "      <td>Austria</td>\n",
              "      <td>1</td>\n",
              "      <td>2.638</td>\n",
              "      <td>0.711</td>\n",
              "      <td>-1.810</td>\n",
              "      <td>0.481</td>\n",
              "      <td>-0.456</td>\n",
              "      <td>1.671</td>\n",
              "      <td>-4.238</td>\n",
              "      <td>-0.648</td>\n",
              "      <td>-2.882</td>\n",
              "      <td>-0.910</td>\n",
              "      <td>-0.604</td>\n",
              "      <td>-1.441</td>\n",
              "      <td>1.447</td>\n",
              "      <td>-0.500</td>\n",
              "      <td>-0.717</td>\n",
              "    </tr>\n",
              "    <tr>\n",
              "      <th>1</th>\n",
              "      <td>Austria</td>\n",
              "      <td>1</td>\n",
              "      <td>1.281</td>\n",
              "      <td>-0.357</td>\n",
              "      <td>-1.545</td>\n",
              "      <td>0.407</td>\n",
              "      <td>0.282</td>\n",
              "      <td>1.722</td>\n",
              "      <td>-1.413</td>\n",
              "      <td>0.091</td>\n",
              "      <td>-0.514</td>\n",
              "      <td>0.879</td>\n",
              "      <td>-0.626</td>\n",
              "      <td>-0.353</td>\n",
              "      <td>1.948</td>\n",
              "      <td>-1.842</td>\n",
              "      <td>-1.317</td>\n",
              "    </tr>\n",
              "    <tr>\n",
              "      <th>2</th>\n",
              "      <td>Austria</td>\n",
              "      <td>0</td>\n",
              "      <td>0.291</td>\n",
              "      <td>-2.075</td>\n",
              "      <td>1.879</td>\n",
              "      <td>1.882</td>\n",
              "      <td>2.494</td>\n",
              "      <td>1.717</td>\n",
              "      <td>1.546</td>\n",
              "      <td>2.606</td>\n",
              "      <td>2.881</td>\n",
              "      <td>1.758</td>\n",
              "      <td>2.219</td>\n",
              "      <td>2.677</td>\n",
              "      <td>1.085</td>\n",
              "      <td>-0.569</td>\n",
              "      <td>-1.784</td>\n",
              "    </tr>\n",
              "    <tr>\n",
              "      <th>3</th>\n",
              "      <td>Austria</td>\n",
              "      <td>0</td>\n",
              "      <td>-1.011</td>\n",
              "      <td>-1.656</td>\n",
              "      <td>0.979</td>\n",
              "      <td>1.842</td>\n",
              "      <td>0.798</td>\n",
              "      <td>1.661</td>\n",
              "      <td>-1.827</td>\n",
              "      <td>0.936</td>\n",
              "      <td>0.296</td>\n",
              "      <td>-0.065</td>\n",
              "      <td>1.868</td>\n",
              "      <td>-1.473</td>\n",
              "      <td>0.854</td>\n",
              "      <td>-0.698</td>\n",
              "      <td>-0.717</td>\n",
              "    </tr>\n",
              "    <tr>\n",
              "      <th>4</th>\n",
              "      <td>Austria</td>\n",
              "      <td>0</td>\n",
              "      <td>-0.608</td>\n",
              "      <td>-2.067</td>\n",
              "      <td>-0.167</td>\n",
              "      <td>1.846</td>\n",
              "      <td>1.703</td>\n",
              "      <td>1.705</td>\n",
              "      <td>-0.216</td>\n",
              "      <td>1.939</td>\n",
              "      <td>1.362</td>\n",
              "      <td>1.782</td>\n",
              "      <td>1.496</td>\n",
              "      <td>0.995</td>\n",
              "      <td>-0.182</td>\n",
              "      <td>2.384</td>\n",
              "      <td>-0.978</td>\n",
              "    </tr>\n",
              "    <tr>\n",
              "      <th>...</th>\n",
              "      <td>...</td>\n",
              "      <td>...</td>\n",
              "      <td>...</td>\n",
              "      <td>...</td>\n",
              "      <td>...</td>\n",
              "      <td>...</td>\n",
              "      <td>...</td>\n",
              "      <td>...</td>\n",
              "      <td>...</td>\n",
              "      <td>...</td>\n",
              "      <td>...</td>\n",
              "      <td>...</td>\n",
              "      <td>...</td>\n",
              "      <td>...</td>\n",
              "      <td>...</td>\n",
              "      <td>...</td>\n",
              "      <td>...</td>\n",
              "    </tr>\n",
              "    <tr>\n",
              "      <th>467</th>\n",
              "      <td>United Kingdom</td>\n",
              "      <td>1</td>\n",
              "      <td>1.943</td>\n",
              "      <td>2.882</td>\n",
              "      <td>-1.711</td>\n",
              "      <td>0.762</td>\n",
              "      <td>-2.172</td>\n",
              "      <td>0.541</td>\n",
              "      <td>-3.602</td>\n",
              "      <td>-0.383</td>\n",
              "      <td>-0.634</td>\n",
              "      <td>0.998</td>\n",
              "      <td>-0.778</td>\n",
              "      <td>-1.725</td>\n",
              "      <td>2.539</td>\n",
              "      <td>-1.412</td>\n",
              "      <td>-2.376</td>\n",
              "    </tr>\n",
              "    <tr>\n",
              "      <th>468</th>\n",
              "      <td>United Kingdom</td>\n",
              "      <td>0</td>\n",
              "      <td>0.459</td>\n",
              "      <td>0.556</td>\n",
              "      <td>-0.318</td>\n",
              "      <td>1.450</td>\n",
              "      <td>1.081</td>\n",
              "      <td>1.749</td>\n",
              "      <td>1.447</td>\n",
              "      <td>1.685</td>\n",
              "      <td>-0.317</td>\n",
              "      <td>1.778</td>\n",
              "      <td>2.581</td>\n",
              "      <td>1.315</td>\n",
              "      <td>-1.985</td>\n",
              "      <td>1.831</td>\n",
              "      <td>-0.857</td>\n",
              "    </tr>\n",
              "    <tr>\n",
              "      <th>469</th>\n",
              "      <td>United Kingdom</td>\n",
              "      <td>0</td>\n",
              "      <td>-0.647</td>\n",
              "      <td>-0.221</td>\n",
              "      <td>0.319</td>\n",
              "      <td>1.387</td>\n",
              "      <td>1.452</td>\n",
              "      <td>1.720</td>\n",
              "      <td>2.380</td>\n",
              "      <td>3.289</td>\n",
              "      <td>1.500</td>\n",
              "      <td>1.777</td>\n",
              "      <td>2.559</td>\n",
              "      <td>2.751</td>\n",
              "      <td>-0.165</td>\n",
              "      <td>0.011</td>\n",
              "      <td>-2.403</td>\n",
              "    </tr>\n",
              "    <tr>\n",
              "      <th>470</th>\n",
              "      <td>United Kingdom</td>\n",
              "      <td>0</td>\n",
              "      <td>-0.043</td>\n",
              "      <td>1.448</td>\n",
              "      <td>-0.967</td>\n",
              "      <td>1.404</td>\n",
              "      <td>1.077</td>\n",
              "      <td>1.779</td>\n",
              "      <td>1.104</td>\n",
              "      <td>2.397</td>\n",
              "      <td>0.806</td>\n",
              "      <td>1.751</td>\n",
              "      <td>2.101</td>\n",
              "      <td>2.746</td>\n",
              "      <td>-2.474</td>\n",
              "      <td>1.726</td>\n",
              "      <td>-1.570</td>\n",
              "    </tr>\n",
              "    <tr>\n",
              "      <th>471</th>\n",
              "      <td>United Kingdom</td>\n",
              "      <td>0</td>\n",
              "      <td>-0.567</td>\n",
              "      <td>0.290</td>\n",
              "      <td>-2.147</td>\n",
              "      <td>1.444</td>\n",
              "      <td>-1.859</td>\n",
              "      <td>1.716</td>\n",
              "      <td>-2.197</td>\n",
              "      <td>0.887</td>\n",
              "      <td>-0.349</td>\n",
              "      <td>0.974</td>\n",
              "      <td>1.710</td>\n",
              "      <td>0.265</td>\n",
              "      <td>2.026</td>\n",
              "      <td>-1.628</td>\n",
              "      <td>-1.570</td>\n",
              "    </tr>\n",
              "  </tbody>\n",
              "</table>\n",
              "<p>397 rows × 17 columns</p>\n",
              "</div>\n",
              "      <button class=\"colab-df-convert\" onclick=\"convertToInteractive('df-bc2444ef-d684-4c87-843b-80a47694bfae')\"\n",
              "              title=\"Convert this dataframe to an interactive table.\"\n",
              "              style=\"display:none;\">\n",
              "        \n",
              "  <svg xmlns=\"http://www.w3.org/2000/svg\" height=\"24px\"viewBox=\"0 0 24 24\"\n",
              "       width=\"24px\">\n",
              "    <path d=\"M0 0h24v24H0V0z\" fill=\"none\"/>\n",
              "    <path d=\"M18.56 5.44l.94 2.06.94-2.06 2.06-.94-2.06-.94-.94-2.06-.94 2.06-2.06.94zm-11 1L8.5 8.5l.94-2.06 2.06-.94-2.06-.94L8.5 2.5l-.94 2.06-2.06.94zm10 10l.94 2.06.94-2.06 2.06-.94-2.06-.94-.94-2.06-.94 2.06-2.06.94z\"/><path d=\"M17.41 7.96l-1.37-1.37c-.4-.4-.92-.59-1.43-.59-.52 0-1.04.2-1.43.59L10.3 9.45l-7.72 7.72c-.78.78-.78 2.05 0 2.83L4 21.41c.39.39.9.59 1.41.59.51 0 1.02-.2 1.41-.59l7.78-7.78 2.81-2.81c.8-.78.8-2.07 0-2.86zM5.41 20L4 18.59l7.72-7.72 1.47 1.35L5.41 20z\"/>\n",
              "  </svg>\n",
              "      </button>\n",
              "      \n",
              "  <style>\n",
              "    .colab-df-container {\n",
              "      display:flex;\n",
              "      flex-wrap:wrap;\n",
              "      gap: 12px;\n",
              "    }\n",
              "\n",
              "    .colab-df-convert {\n",
              "      background-color: #E8F0FE;\n",
              "      border: none;\n",
              "      border-radius: 50%;\n",
              "      cursor: pointer;\n",
              "      display: none;\n",
              "      fill: #1967D2;\n",
              "      height: 32px;\n",
              "      padding: 0 0 0 0;\n",
              "      width: 32px;\n",
              "    }\n",
              "\n",
              "    .colab-df-convert:hover {\n",
              "      background-color: #E2EBFA;\n",
              "      box-shadow: 0px 1px 2px rgba(60, 64, 67, 0.3), 0px 1px 3px 1px rgba(60, 64, 67, 0.15);\n",
              "      fill: #174EA6;\n",
              "    }\n",
              "\n",
              "    [theme=dark] .colab-df-convert {\n",
              "      background-color: #3B4455;\n",
              "      fill: #D2E3FC;\n",
              "    }\n",
              "\n",
              "    [theme=dark] .colab-df-convert:hover {\n",
              "      background-color: #434B5C;\n",
              "      box-shadow: 0px 1px 3px 1px rgba(0, 0, 0, 0.15);\n",
              "      filter: drop-shadow(0px 1px 2px rgba(0, 0, 0, 0.3));\n",
              "      fill: #FFFFFF;\n",
              "    }\n",
              "  </style>\n",
              "\n",
              "      <script>\n",
              "        const buttonEl =\n",
              "          document.querySelector('#df-bc2444ef-d684-4c87-843b-80a47694bfae button.colab-df-convert');\n",
              "        buttonEl.style.display =\n",
              "          google.colab.kernel.accessAllowed ? 'block' : 'none';\n",
              "\n",
              "        async function convertToInteractive(key) {\n",
              "          const element = document.querySelector('#df-bc2444ef-d684-4c87-843b-80a47694bfae');\n",
              "          const dataTable =\n",
              "            await google.colab.kernel.invokeFunction('convertToInteractive',\n",
              "                                                     [key], {});\n",
              "          if (!dataTable) return;\n",
              "\n",
              "          const docLinkHtml = 'Like what you see? Visit the ' +\n",
              "            '<a target=\"_blank\" href=https://colab.research.google.com/notebooks/data_table.ipynb>data table notebook</a>'\n",
              "            + ' to learn more about interactive tables.';\n",
              "          element.innerHTML = '';\n",
              "          dataTable['output_type'] = 'display_data';\n",
              "          await google.colab.output.renderOutput(dataTable, element);\n",
              "          const docLink = document.createElement('div');\n",
              "          docLink.innerHTML = docLinkHtml;\n",
              "          element.appendChild(docLink);\n",
              "        }\n",
              "      </script>\n",
              "    </div>\n",
              "  </div>\n",
              "  "
            ]
          },
          "metadata": {},
          "execution_count": 4
        }
      ]
    },
    {
      "cell_type": "markdown",
      "source": [
        "Random forest estimation:"
      ],
      "metadata": {
        "id": "pRJlun_-LLWw"
      }
    },
    {
      "cell_type": "code",
      "source": [
        "# Target:\n",
        "\n",
        "y = vparty['farright']\n",
        "\n",
        "# Features:\n",
        "\n",
        "X = vparty.drop(columns = ['country_name', 'farright'])\n",
        "\n",
        "# Basic train-test split:\n",
        "\n",
        "X_train, X_test, y_train, y_test = train_test_split(X, y, stratify = y, test_size = 0.2, random_state = 416)\n",
        "\n",
        "# Growing a random forest of decorrelated decision trees:\n",
        "\n",
        "rf = RandomForestClassifier(n_estimators=1000, class_weight='balanced_subsample')\n",
        "\n",
        "rf.fit(X_train, y_train)"
      ],
      "metadata": {
        "colab": {
          "base_uri": "https://localhost:8080/"
        },
        "id": "mhSf0eaRLShF",
        "outputId": "f5c1e1a7-1f3e-4e68-ac09-a744210b1993"
      },
      "execution_count": 5,
      "outputs": [
        {
          "output_type": "execute_result",
          "data": {
            "text/plain": [
              "RandomForestClassifier(class_weight='balanced_subsample', n_estimators=1000)"
            ]
          },
          "metadata": {},
          "execution_count": 5
        }
      ]
    },
    {
      "cell_type": "markdown",
      "source": [
        "Model assessment:"
      ],
      "metadata": {
        "id": "MSP795wHMAIG"
      }
    },
    {
      "cell_type": "code",
      "source": [
        "print(\"Test Score: {}\".format(rf.score(X_test, y_test)))\n",
        "\n",
        "y_pred = rf.predict(X_test)\n",
        "\n",
        "print(\"F1 Score: {}\".format(f1_score(y_test, y_pred)))\n",
        "\n",
        "RocCurveDisplay.from_predictions(y_test, y_pred)"
      ],
      "metadata": {
        "colab": {
          "base_uri": "https://localhost:8080/",
          "height": 339
        },
        "id": "lPs14TlRMCJf",
        "outputId": "c66d5bde-d6b2-4bb7-bf20-ff8ac4f7025e"
      },
      "execution_count": 6,
      "outputs": [
        {
          "output_type": "stream",
          "name": "stdout",
          "text": [
            "Test Score: 0.95\n",
            "F1 Score: 0.7999999999999999\n"
          ]
        },
        {
          "output_type": "execute_result",
          "data": {
            "text/plain": [
              "<sklearn.metrics._plot.roc_curve.RocCurveDisplay at 0x7f12f41c7f40>"
            ]
          },
          "metadata": {},
          "execution_count": 6
        },
        {
          "output_type": "display_data",
          "data": {
            "text/plain": [
              "<Figure size 432x288 with 1 Axes>"
            ],
            "image/png": "[encoded data removed]"
          },
          "metadata": {}
        }
      ]
    },
    {
      "cell_type": "markdown",
      "source": [
        "Bringing in _relatively_ balanced data frame:"
      ],
      "metadata": {
        "id": "6wxWE12WNrPS"
      }
    },
    {
      "cell_type": "code",
      "source": [
        "vparty_alt = pd.read_csv('https://github.com/martinlukk/pop-class/raw/main/data/vparty_earliest_balanced.csv').dropna()\n",
        "\n",
        "# Target:\n",
        "\n",
        "y_balance = vparty_alt['farright']\n",
        "\n",
        "# Features:\n",
        "\n",
        "X_balance = vparty_alt.drop(columns = ['country_name', 'farright'])\n",
        "\n",
        "# Applying random forest to relatively balanced data frame (unseen data):\n",
        "\n",
        "rf.score(X_balance, y_balance)\n",
        "\n",
        "f1_score(y_balance, rf.predict(X_balance))\n",
        "\n",
        "RocCurveDisplay.from_predictions(y_balance, rf.predict(X_balance))"
      ],
      "metadata": {
        "colab": {
          "base_uri": "https://localhost:8080/",
          "height": 303
        },
        "id": "HHliyCosN3Ae",
        "outputId": "3e16cdf0-0bfb-4d8e-d67a-be95e65b64c8"
      },
      "execution_count": 16,
      "outputs": [
        {
          "output_type": "execute_result",
          "data": {
            "text/plain": [
              "<sklearn.metrics._plot.roc_curve.RocCurveDisplay at 0x7f12f3b9db20>"
            ]
          },
          "metadata": {},
          "execution_count": 16
        },
        {
          "output_type": "display_data",
          "data": {
            "text/plain": [
              "<Figure size 432x288 with 1 Axes>"
            ],
            "image/png": "[encoded data removed]"
          },
          "metadata": {}
        }
      ]
    },
    {
      "cell_type": "markdown",
      "source": [
        "Calibration:"
      ],
      "metadata": {
        "id": "L6k6aWEvP-7N"
      }
    },
    {
      "cell_type": "code",
      "source": [
        "calibrated = CalibratedClassifierCV(rf, method='isotonic', cv=3)\n",
        "\n",
        "calibrated.fit(X_train, y_train)\n",
        "\n",
        "calibrated.score(X_test, y_test)\n",
        "\n",
        "cal_predict = calibrated.predict(X_test)\n",
        "\n",
        "f1_score(y_test, cal_predict)\n",
        "\n",
        "print(brier_score_loss(y_test, y_pred))\n",
        "\n",
        "print(brier_score_loss(y_test, cal_predict))\n",
        "\n",
        "\n",
        "RocCurveDisplay.from_predictions(y_test, calibrated.predict(X_test))\n"
      ],
      "metadata": {
        "colab": {
          "base_uri": "https://localhost:8080/",
          "height": 339
        },
        "id": "yhNFXvGzQE1V",
        "outputId": "53d0878a-4d7e-4ebe-e6fe-05670a6d64e6"
      },
      "execution_count": 17,
      "outputs": [
        {
          "output_type": "stream",
          "name": "stdout",
          "text": [
            "0.05\n",
            "0.0375\n"
          ]
        },
        {
          "output_type": "execute_result",
          "data": {
            "text/plain": [
              "<sklearn.metrics._plot.roc_curve.RocCurveDisplay at 0x7f12f2e03fd0>"
            ]
          },
          "metadata": {},
          "execution_count": 17
        },
        {
          "output_type": "display_data",
          "data": {
            "text/plain": [
              "<Figure size 432x288 with 1 Axes>"
            ],
            "image/png": "[encoded data removed]"
          },
          "metadata": {}
        }
      ]
    },
    {
      "cell_type": "markdown",
      "source": [
        "## Radicalization of the Republican Party (and the BJP, too?)"
      ],
      "metadata": {
        "id": "J2zJr0emPBrW"
      }
    },
    {
      "cell_type": "code",
      "source": [
        "# The Grand Old Party:\n",
        "\n",
        "gop = pd.read_csv('https://github.com/martinlukk/pop-class/raw/main/data/not%20in%20populist/grand_old_party.csv').dropna()\n",
        "\n",
        "gop_variables = gop.drop(columns=['country_name', 'party_year'])\n",
        "\n",
        "# Comparison: The Democrats\n",
        "\n",
        "dems = pd.read_csv('https://github.com/martinlukk/pop-class/raw/main/data/not%20in%20populist/democrats.csv').dropna()\n",
        "\n",
        "dems_variables = dems.drop(columns=['country_name', 'party_year'])\n",
        "\n",
        "# Comparison: The BJP\n",
        "\n",
        "bjp = pd.read_csv('https://github.com/martinlukk/pop-class/raw/main/data/not%20in%20populist/bjp.csv').dropna()\n",
        "\n",
        "bjp_variables = bjp.drop(columns=['country_name', 'party_year'])\n",
        "\n",
        "\n",
        "# Comparison: Likud in Israel\n",
        "\n",
        "likud = pd.read_csv('https://github.com/martinlukk/pop-class/raw/main/data/not%20in%20populist/likud.csv').dropna()\n",
        "\n",
        "likud_variables = likud.drop(columns=['country_name', 'party_year'])\n"
      ],
      "metadata": {
        "id": "tans0LDPPBKT"
      },
      "execution_count": 18,
      "outputs": []
    },
    {
      "cell_type": "code",
      "source": [
        "# Republican Party Over Time: Probability of Being \"Far Right\"\n",
        "\n",
        "calibrated.predict_proba(gop_variables)"
      ],
      "metadata": {
        "colab": {
          "base_uri": "https://localhost:8080/"
        },
        "id": "TQGn2KD2PaJ0",
        "outputId": "0d982f78-62bf-4022-9bca-0686c46b18ad"
      },
      "execution_count": 19,
      "outputs": [
        {
          "output_type": "execute_result",
          "data": {
            "text/plain": [
              "array([[1.        , 0.        ],\n",
              "       [1.        , 0.        ],\n",
              "       [1.        , 0.        ],\n",
              "       [1.        , 0.        ],\n",
              "       [1.        , 0.        ],\n",
              "       [1.        , 0.        ],\n",
              "       [1.        , 0.        ],\n",
              "       [0.99382716, 0.00617284],\n",
              "       [1.        , 0.        ],\n",
              "       [0.95833333, 0.04166667],\n",
              "       [0.91666667, 0.08333333],\n",
              "       [0.93062265, 0.06937735],\n",
              "       [0.93525228, 0.06474772],\n",
              "       [0.2037037 , 0.7962963 ],\n",
              "       [0.2037037 , 0.7962963 ]])"
            ]
          },
          "metadata": {},
          "execution_count": 19
        }
      ]
    },
    {
      "cell_type": "code",
      "source": [
        "# What about Dems?\n",
        "\n",
        "calibrated.predict_proba(dems_variables)"
      ],
      "metadata": {
        "colab": {
          "base_uri": "https://localhost:8080/"
        },
        "id": "BRh-H8X_P1ZD",
        "outputId": "0cbdaef7-3246-4801-c47f-fdd68da2ad8f"
      },
      "execution_count": 20,
      "outputs": [
        {
          "output_type": "execute_result",
          "data": {
            "text/plain": [
              "array([[1., 0.],\n",
              "       [1., 0.],\n",
              "       [1., 0.],\n",
              "       [1., 0.],\n",
              "       [1., 0.],\n",
              "       [1., 0.],\n",
              "       [1., 0.],\n",
              "       [1., 0.],\n",
              "       [1., 0.],\n",
              "       [1., 0.],\n",
              "       [1., 0.],\n",
              "       [1., 0.],\n",
              "       [1., 0.],\n",
              "       [1., 0.],\n",
              "       [1., 0.]])"
            ]
          },
          "metadata": {},
          "execution_count": 20
        }
      ]
    },
    {
      "cell_type": "code",
      "source": [
        "# The BJP?\n",
        "\n",
        "# Similar shift under Narenda Modi:\n",
        "\n",
        "calibrated.predict_proba(bjp_variables)"
      ],
      "metadata": {
        "colab": {
          "base_uri": "https://localhost:8080/"
        },
        "id": "nyOoEuJqRiG2",
        "outputId": "7ac2b0b0-b2da-435b-9665-325cc422c28a"
      },
      "execution_count": 21,
      "outputs": [
        {
          "output_type": "execute_result",
          "data": {
            "text/plain": [
              "array([[0.78055556, 0.21944444],\n",
              "       [0.78055556, 0.21944444],\n",
              "       [0.82920021, 0.17079979],\n",
              "       [0.83866076, 0.16133924],\n",
              "       [0.82403382, 0.17596618],\n",
              "       [0.83731884, 0.16268116],\n",
              "       [0.78055556, 0.21944444],\n",
              "       [0.2037037 , 0.7962963 ],\n",
              "       [0.2037037 , 0.7962963 ]])"
            ]
          },
          "metadata": {},
          "execution_count": 21
        }
      ]
    },
    {
      "cell_type": "code",
      "source": [
        "# Likud in Israel\n",
        "\n",
        "calibrated.predict_proba(likud_variables)"
      ],
      "metadata": {
        "colab": {
          "base_uri": "https://localhost:8080/"
        },
        "id": "JTD_9qx1Ykh5",
        "outputId": "b7f6186c-65d5-469f-ea40-f4f1a2ace65c"
      },
      "execution_count": 22,
      "outputs": [
        {
          "output_type": "execute_result",
          "data": {
            "text/plain": [
              "array([[1.        , 0.        ],\n",
              "       [1.        , 0.        ],\n",
              "       [0.95833333, 0.04166667],\n",
              "       [0.95833333, 0.04166667],\n",
              "       [0.95833333, 0.04166667],\n",
              "       [1.        , 0.        ],\n",
              "       [0.95524691, 0.04475309],\n",
              "       [0.83333333, 0.16666667],\n",
              "       [0.78412698, 0.21587302]])"
            ]
          },
          "metadata": {},
          "execution_count": 22
        }
      ]
    },
    {
      "cell_type": "code",
      "source": [
        "# Alternative for Germany?\n",
        "\n",
        "vparty_original = pd.read_csv('https://github.com/martinlukk/pop-class/raw/main/data/vparty_original.csv').dropna()\n",
        "\n",
        "vparty_original_variables = vparty_original.drop(columns=['country_name', 'farright', 'party_id'])\n",
        "\n",
        "calibrated.predict_proba(vparty_original_variables.loc[592:593,])"
      ],
      "metadata": {
        "colab": {
          "base_uri": "https://localhost:8080/"
        },
        "id": "TdqhIgOBaF8Q",
        "outputId": "b1dcee90-38a9-41e9-d978-66c9cbb2a8bc"
      },
      "execution_count": 23,
      "outputs": [
        {
          "output_type": "execute_result",
          "data": {
            "text/plain": [
              "array([[0.03703704, 0.96296296],\n",
              "       [0.        , 1.        ]])"
            ]
          },
          "metadata": {},
          "execution_count": 23
        }
      ]
    },
    {
      "cell_type": "markdown",
      "source": [
        "## Interpreting Results"
      ],
      "metadata": {
        "id": "ciuo4ognch6d"
      }
    },
    {
      "cell_type": "code",
      "source": [
        "importance = rf.feature_importances_\n",
        "\n",
        "#\n",
        "# Sort feature importances in descending order\n",
        "#\n",
        "\n",
        "sorted_indices = np.argsort(importance)[::-1]\n",
        " \n",
        "feat_labels = X.columns\n",
        " \n",
        "for f in range(X_train.shape[1]):\n",
        "    print(\"%2d) %-*s %f\" % (f + 1, 30,\n",
        "                            feat_labels[sorted_indices[f]],\n",
        "                            importance[sorted_indices[f]]))"
      ],
      "metadata": {
        "colab": {
          "base_uri": "https://localhost:8080/"
        },
        "id": "o7xAkZ6JclJu",
        "outputId": "05558052-e13c-46fb-b057-a1458a7e23bd"
      },
      "execution_count": 24,
      "outputs": [
        {
          "output_type": "stream",
          "name": "stdout",
          "text": [
            " 1) v2paimmig                      0.262645\n",
            " 2) v2paculsup                     0.160706\n",
            " 3) v2paanteli                     0.114949\n",
            " 4) v2paminor                      0.087572\n",
            " 5) v2papeople                     0.062382\n",
            " 6) v2paplur                       0.048013\n",
            " 7) v2pawomlab                     0.047934\n",
            " 8) v2palgbt                       0.043164\n",
            " 9) v2paopresp                     0.041837\n",
            "10) v2pariglef                     0.032662\n",
            "11) v2paviol                       0.029154\n",
            "12) v2pagender                     0.024455\n",
            "13) v2pawelf                       0.020316\n",
            "14) v2parelig                      0.012704\n",
            "15) v2paclient                     0.011507\n"
          ]
        }
      ]
    },
    {
      "cell_type": "code",
      "source": [
        "# For calirbated classifier:\n",
        "\n",
        "feat_imp = 0\n",
        "\n",
        "for i in calibrated.calibrated_classifiers_:\n",
        "    feat_imp = feat_imp + i.base_estimator.feature_importances_\n",
        "feat_imp  = feat_imp/len(calibrated.calibrated_classifiers_)\n",
        "\n",
        "feat_imp\n",
        "\n",
        "\n",
        "for f in range(X_train.shape[1]):\n",
        "    print(\"%2d) %-*s %f\" % (f + 1, 30,\n",
        "                            feat_labels[sorted_indices[f]],\n",
        "                            feat_imp[sorted_indices[f]]))"
      ],
      "metadata": {
        "colab": {
          "base_uri": "https://localhost:8080/"
        },
        "id": "-6qjVBNB4GyT",
        "outputId": "dd019a56-37fe-400e-f551-2b3e5759d38f"
      },
      "execution_count": 25,
      "outputs": [
        {
          "output_type": "stream",
          "name": "stdout",
          "text": [
            " 1) v2paimmig                      0.259938\n",
            " 2) v2paculsup                     0.157082\n",
            " 3) v2paanteli                     0.119847\n",
            " 4) v2paminor                      0.093503\n",
            " 5) v2papeople                     0.052063\n",
            " 6) v2paplur                       0.046815\n",
            " 7) v2pawomlab                     0.053292\n",
            " 8) v2palgbt                       0.047033\n",
            " 9) v2paopresp                     0.039594\n",
            "10) v2pariglef                     0.036651\n",
            "11) v2paviol                       0.027597\n",
            "12) v2pagender                     0.023240\n",
            "13) v2pawelf                       0.018078\n",
            "14) v2parelig                      0.014619\n",
            "15) v2paclient                     0.010648\n"
          ]
        }
      ]
    },
    {
      "cell_type": "code",
      "source": [
        "# Partial Dependence Plot\n",
        "\n",
        "var_of_interest = ['v2paimmig']\n",
        "\n",
        "PartialDependenceDisplay.from_estimator(calibrated, X_train, [var_of_interest])"
      ],
      "metadata": {
        "colab": {
          "base_uri": "https://localhost:8080/",
          "height": 303
        },
        "id": "oJIKIoaXc6tb",
        "outputId": "1f9e95ab-6de4-46ff-b074-410ed0b1ec36"
      },
      "execution_count": 26,
      "outputs": [
        {
          "output_type": "execute_result",
          "data": {
            "text/plain": [
              "<sklearn.inspection._plot.partial_dependence.PartialDependenceDisplay at 0x7f12f41c7190>"
            ]
          },
          "metadata": {},
          "execution_count": 26
        },
        {
          "output_type": "display_data",
          "data": {
            "text/plain": [
              "<Figure size 432x288 with 2 Axes>"
            ],
            "image/png": "[encoded data removed]"
          },
          "metadata": {}
        }
      ]
    },
    {
      "cell_type": "code",
      "source": [
        "# Alternative approach: ensuring there's no leakage by splitting on party id:\n",
        "\n",
        "from sklearn.model_selection import GroupShuffleSplit \n",
        "\n",
        "splitter = GroupShuffleSplit(test_size=.20, n_splits=2, random_state = 416)\n",
        "\n",
        "\n",
        "split = splitter.split(vparty_original, groups=vparty_original['party_id'])\n",
        "\n",
        "train_inds, test_inds = next(split)\n",
        "\n",
        "\n",
        "train = vparty_original.iloc[train_inds]\n",
        "\n",
        "test = vparty_original.iloc[test_inds]\n",
        "\n",
        "\n",
        "rf.fit(train.drop(columns=['country_name', 'farright', 'party_id']), train.farright)\n",
        "\n",
        "\n",
        "rf.score(test.drop(columns=['country_name', 'farright', 'party_id']), test.farright)\n",
        "\n",
        "\n",
        "rf.predict_proba(bjp_variables)\n"
      ],
      "metadata": {
        "colab": {
          "base_uri": "https://localhost:8080/"
        },
        "id": "nuPbGxCUKZ1N",
        "outputId": "7c2282a8-1e1a-4d3a-ad39-c388f50ab3fc"
      },
      "execution_count": 27,
      "outputs": [
        {
          "output_type": "execute_result",
          "data": {
            "text/plain": [
              "array([[0.74204612, 0.25795388],\n",
              "       [0.74304612, 0.25695388],\n",
              "       [0.81204612, 0.18795388],\n",
              "       [0.81404612, 0.18595388],\n",
              "       [0.8170674 , 0.1829326 ],\n",
              "       [0.8190674 , 0.1809326 ],\n",
              "       [0.71711204, 0.28288796],\n",
              "       [0.30951815, 0.69048185],\n",
              "       [0.30159362, 0.69840638]])"
            ]
          },
          "metadata": {},
          "execution_count": 27
        }
      ]
    }
  ]
}